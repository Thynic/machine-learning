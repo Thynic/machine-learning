{
  "nbformat": 4,
  "nbformat_minor": 0,
  "metadata": {
    "colab": {
      "name": "2- Data Science Tutorial - Pyhton.ipynb",
      "provenance": [],
      "collapsed_sections": [],
      "authorship_tag": "ABX9TyOE2aGYFuJd9UCKzLc8a2SK"
    },
    "kernelspec": {
      "name": "python3",
      "display_name": "Python 3"
    },
    "language_info": {
      "name": "python"
    }
  },
  "cells": [
    {
      "cell_type": "code",
      "execution_count": 3,
      "metadata": {
        "colab": {
          "base_uri": "https://localhost:8080/"
        },
        "id": "MvMNpnquOgQc",
        "outputId": "f8318ba3-a2c9-4154-dcb8-799038b422be"
      },
      "outputs": [
        {
          "output_type": "stream",
          "name": "stdout",
          "text": [
            "1 2 3\n"
          ]
        }
      ],
      "source": [
        "#docstrings: documentation for functions between triple \"'s\n",
        "#tuple: squence of immutable python objects, can't modifi values\n",
        "\n",
        "def tuple_ex():\n",
        "  \"\"\" return defined t tuple \"\"\" #docstring\n",
        "  t = (1, 2, 3) #tuple\n",
        "  return t\n",
        "a, b, c = tuple_ex() #assigning tuple values into a, b, c respectively \n",
        "print(a, b, c)"
      ]
    },
    {
      "cell_type": "code",
      "source": [
        "# First local scope searched, then global scope searched,\n",
        "#if two of them cannot be found, lastly built in scope searched.\n",
        "\n",
        "#builtins:\n",
        "import builtins\n",
        "dir(builtins)"
      ],
      "metadata": {
        "id": "x1WIKLX9Qp0K"
      },
      "execution_count": null,
      "outputs": []
    },
    {
      "cell_type": "code",
      "source": [
        "#nested function\n",
        "\n",
        "def square():\n",
        "  \"\"\" return square of value \"\"\"\n",
        "  def add():\n",
        "    \"\"\" add two local variables \"\"\"\n",
        "    x = 2\n",
        "    y = 3\n",
        "    z = x + y\n",
        "    return z\n",
        "  return add()**2 #to the power of 2\n",
        "print(square())"
      ],
      "metadata": {
        "colab": {
          "base_uri": "https://localhost:8080/"
        },
        "id": "NRvrbFooS0wU",
        "outputId": "88d3b326-8215-4259-b85d-563c900f4208"
      },
      "execution_count": 3,
      "outputs": [
        {
          "output_type": "stream",
          "name": "stdout",
          "text": [
            "25\n"
          ]
        }
      ]
    },
    {
      "cell_type": "code",
      "source": [
        "#default arguments\n",
        "\n",
        "def f(a, b = 1, c = 2):\n",
        "  y = a + b + c\n",
        "  return y\n",
        "print(f(5)) #yields 8\n",
        "\n",
        "print(f(5, 4, 3)) #yields 12 with new arguments instead of defaults"
      ],
      "metadata": {
        "colab": {
          "base_uri": "https://localhost:8080/"
        },
        "id": "qecAp-WoeC7n",
        "outputId": "53e14471-803c-43d0-d4fd-e0078abff83a"
      },
      "execution_count": 4,
      "outputs": [
        {
          "output_type": "stream",
          "name": "stdout",
          "text": [
            "8\n",
            "12\n"
          ]
        }
      ]
    },
    {
      "cell_type": "code",
      "source": [
        "#flexible arguments *args\n",
        "\n",
        "def f(*args):\n",
        "  for i in args:\n",
        "    print(i)\n",
        "f(1)\n",
        "print(\"\")\n",
        "f(1, 2, 3, 4)\n",
        "\n",
        "#with **kwargs (dictionary)\n",
        "\n",
        "def f(**kwargs):\n",
        "  \"\"\" print key and value of dictionary \"\"\"\n",
        "  for key, value in kwargs.items():\n",
        "    print(key, \": \", value)\n",
        "f(country = 'spain', capital = 'madrid', population = 123456)"
      ],
      "metadata": {
        "colab": {
          "base_uri": "https://localhost:8080/"
        },
        "id": "A667DQMUfB8H",
        "outputId": "769f64f3-727c-4d3e-a003-020bcf338574"
      },
      "execution_count": 12,
      "outputs": [
        {
          "output_type": "stream",
          "name": "stdout",
          "text": [
            "1\n",
            "\n",
            "1\n",
            "2\n",
            "3\n",
            "4\n",
            "country :  spain\n",
            "capital :  madrid\n",
            "population :  123456\n"
          ]
        }
      ]
    },
    {
      "cell_type": "code",
      "source": [
        "#lambda function\n",
        "square = lambda x: x**2 #x is the name of the argument\n",
        "print(square(4))\n",
        "\n",
        "tot = lambda x, y, z: x + y + z #x, y, z are arguments\n",
        "print(tot(1, 2, 3))"
      ],
      "metadata": {
        "colab": {
          "base_uri": "https://localhost:8080/"
        },
        "id": "ibGYqlCIiG5X",
        "outputId": "393ba390-eb72-48ca-f252-aae5d2bdd379"
      },
      "execution_count": 13,
      "outputs": [
        {
          "output_type": "stream",
          "name": "stdout",
          "text": [
            "16\n",
            "6\n"
          ]
        }
      ]
    },
    {
      "cell_type": "code",
      "source": [
        "#anonymus function = similar to lambda\n",
        "#func but takes more than one arguments\n",
        "#map(func, seq): applies the func to all items in the list\n",
        "\n",
        "number_list = [1, 2, 3]\n",
        "y = map(lambda x:x**2, number_list) #taking the elements of the number_list as arguments\n",
        "print(list(y)) #and taking square of all elements"
      ],
      "metadata": {
        "colab": {
          "base_uri": "https://localhost:8080/"
        },
        "id": "ChRw-zPSjpxe",
        "outputId": "550e7f67-c590-4edb-c420-70a69ebbb479"
      },
      "execution_count": 16,
      "outputs": [
        {
          "output_type": "stream",
          "name": "stdout",
          "text": [
            "[1, 4, 9]\n"
          ]
        }
      ]
    },
    {
      "cell_type": "code",
      "source": [
        "#iteration example\n",
        "\n",
        "name = 'ronaldo'\n",
        "it = iter(name)\n",
        "print(next(it)) #printing next iteration\n",
        "print(*it) #print remaining iteration"
      ],
      "metadata": {
        "colab": {
          "base_uri": "https://localhost:8080/"
        },
        "id": "gyKQWXQ7nJT7",
        "outputId": "5558eada-2e63-4ae6-b5c5-bce9dfd1d16b"
      },
      "execution_count": 18,
      "outputs": [
        {
          "output_type": "stream",
          "name": "stdout",
          "text": [
            "r\n",
            "o n a l d o\n"
          ]
        }
      ]
    },
    {
      "cell_type": "code",
      "source": [
        "#zip example\n",
        "\n",
        "list1 = [1, 2, 3, 4]\n",
        "list2 = [5, 6, 7, 8]\n",
        "z = zip(list1, list2) #zipping lists\n",
        "print(z) #zip location\n",
        "z_list = list(z) #making the zip a list, 0 index to 0 index\n",
        "print(z_list)"
      ],
      "metadata": {
        "colab": {
          "base_uri": "https://localhost:8080/"
        },
        "id": "baKxhrTLq1Rh",
        "outputId": "c4ca6462-a621-490b-b14e-8a0a34d15d48"
      },
      "execution_count": 19,
      "outputs": [
        {
          "output_type": "stream",
          "name": "stdout",
          "text": [
            "<zip object at 0x7fd056569050>\n",
            "[(1, 5), (2, 6), (3, 7), (4, 8)]\n"
          ]
        }
      ]
    },
    {
      "cell_type": "code",
      "source": [
        "un_zip = zip(*z_list) #unzipping\n",
        "un_list1, un_list2 = list(un_zip) #unzip returns a tuple\n",
        "print(un_list1) #creating the list from first entries of each ()\n",
        "print(un_list2) #from seconds\n",
        "print(type(un_list2)) #print type of the unzipped list (tuple)"
      ],
      "metadata": {
        "colab": {
          "base_uri": "https://localhost:8080/"
        },
        "id": "P1C_ueuMr2Gd",
        "outputId": "eeedc072-e1a4-45cb-ff30-4fa7895b2783"
      },
      "execution_count": 21,
      "outputs": [
        {
          "output_type": "stream",
          "name": "stdout",
          "text": [
            "(1, 2, 3, 4)\n",
            "(5, 6, 7, 8)\n",
            "<class 'tuple'>\n"
          ]
        }
      ]
    },
    {
      "cell_type": "code",
      "source": [
        "#list comprehension example\n",
        "\n",
        "num1 = [1, 2, 3]\n",
        "num2 = [i + 1 for i in num1] #adding 1 to every number in num1 and assigning to num2 one by one\n",
        "print(num2)"
      ],
      "metadata": {
        "colab": {
          "base_uri": "https://localhost:8080/"
        },
        "id": "pXZYIltPtF-c",
        "outputId": "afe887e9-8085-414a-8d4d-d34318eac81c"
      },
      "execution_count": 22,
      "outputs": [
        {
          "output_type": "stream",
          "name": "stdout",
          "text": [
            "[2, 3, 4]\n"
          ]
        }
      ]
    },
    {
      "cell_type": "code",
      "source": [
        "#conditionals on iterable\n",
        "num1 = [2, 5,10,15]\n",
        "num2 = [i**2 if i == 10 else i-5 if i < 7 else i+5 for i in num1]\n",
        "print(num2)"
      ],
      "metadata": {
        "colab": {
          "base_uri": "https://localhost:8080/"
        },
        "id": "GrJ9z4C6t8K5",
        "outputId": "e17c5006-8542-4b68-d037-0676bd6cd3ac"
      },
      "execution_count": 25,
      "outputs": [
        {
          "output_type": "stream",
          "name": "stdout",
          "text": [
            "[-3, 0, 100, 20]\n"
          ]
        }
      ]
    },
    {
      "cell_type": "code",
      "source": [
        "import pandas as pd\n",
        "data = pd.read_csv('../input/pokemon.csv')\n",
        "\n",
        "threshold = sum(data.Speed)/len(data.Speed) #average\n",
        "data[\"speed_level\"] = [\"high\" if i > threshold else \"low\" for i in data.Speed]\n",
        "data.loc[:10,[\"speed_level\", \"Speed\"]] #todo learning loc"
      ],
      "metadata": {
        "colab": {
          "base_uri": "https://localhost:8080/",
          "height": 394
        },
        "id": "cXkJ_4tovI15",
        "outputId": "17540388-ff4b-4417-e50e-377c15409e24"
      },
      "execution_count": 6,
      "outputs": [
        {
          "output_type": "execute_result",
          "data": {
            "text/html": [
              "\n",
              "  <div id=\"df-2be00135-0750-4eb4-96f0-3b8553a5b719\">\n",
              "    <div class=\"colab-df-container\">\n",
              "      <div>\n",
              "<style scoped>\n",
              "    .dataframe tbody tr th:only-of-type {\n",
              "        vertical-align: middle;\n",
              "    }\n",
              "\n",
              "    .dataframe tbody tr th {\n",
              "        vertical-align: top;\n",
              "    }\n",
              "\n",
              "    .dataframe thead th {\n",
              "        text-align: right;\n",
              "    }\n",
              "</style>\n",
              "<table border=\"1\" class=\"dataframe\">\n",
              "  <thead>\n",
              "    <tr style=\"text-align: right;\">\n",
              "      <th></th>\n",
              "      <th>speed_level</th>\n",
              "      <th>Speed</th>\n",
              "    </tr>\n",
              "  </thead>\n",
              "  <tbody>\n",
              "    <tr>\n",
              "      <th>0</th>\n",
              "      <td>low</td>\n",
              "      <td>45</td>\n",
              "    </tr>\n",
              "    <tr>\n",
              "      <th>1</th>\n",
              "      <td>low</td>\n",
              "      <td>60</td>\n",
              "    </tr>\n",
              "    <tr>\n",
              "      <th>2</th>\n",
              "      <td>high</td>\n",
              "      <td>80</td>\n",
              "    </tr>\n",
              "    <tr>\n",
              "      <th>3</th>\n",
              "      <td>high</td>\n",
              "      <td>80</td>\n",
              "    </tr>\n",
              "    <tr>\n",
              "      <th>4</th>\n",
              "      <td>low</td>\n",
              "      <td>65</td>\n",
              "    </tr>\n",
              "    <tr>\n",
              "      <th>5</th>\n",
              "      <td>high</td>\n",
              "      <td>80</td>\n",
              "    </tr>\n",
              "    <tr>\n",
              "      <th>6</th>\n",
              "      <td>high</td>\n",
              "      <td>100</td>\n",
              "    </tr>\n",
              "    <tr>\n",
              "      <th>7</th>\n",
              "      <td>high</td>\n",
              "      <td>100</td>\n",
              "    </tr>\n",
              "    <tr>\n",
              "      <th>8</th>\n",
              "      <td>high</td>\n",
              "      <td>100</td>\n",
              "    </tr>\n",
              "    <tr>\n",
              "      <th>9</th>\n",
              "      <td>low</td>\n",
              "      <td>43</td>\n",
              "    </tr>\n",
              "    <tr>\n",
              "      <th>10</th>\n",
              "      <td>low</td>\n",
              "      <td>58</td>\n",
              "    </tr>\n",
              "  </tbody>\n",
              "</table>\n",
              "</div>\n",
              "      <button class=\"colab-df-convert\" onclick=\"convertToInteractive('df-2be00135-0750-4eb4-96f0-3b8553a5b719')\"\n",
              "              title=\"Convert this dataframe to an interactive table.\"\n",
              "              style=\"display:none;\">\n",
              "        \n",
              "  <svg xmlns=\"http://www.w3.org/2000/svg\" height=\"24px\"viewBox=\"0 0 24 24\"\n",
              "       width=\"24px\">\n",
              "    <path d=\"M0 0h24v24H0V0z\" fill=\"none\"/>\n",
              "    <path d=\"M18.56 5.44l.94 2.06.94-2.06 2.06-.94-2.06-.94-.94-2.06-.94 2.06-2.06.94zm-11 1L8.5 8.5l.94-2.06 2.06-.94-2.06-.94L8.5 2.5l-.94 2.06-2.06.94zm10 10l.94 2.06.94-2.06 2.06-.94-2.06-.94-.94-2.06-.94 2.06-2.06.94z\"/><path d=\"M17.41 7.96l-1.37-1.37c-.4-.4-.92-.59-1.43-.59-.52 0-1.04.2-1.43.59L10.3 9.45l-7.72 7.72c-.78.78-.78 2.05 0 2.83L4 21.41c.39.39.9.59 1.41.59.51 0 1.02-.2 1.41-.59l7.78-7.78 2.81-2.81c.8-.78.8-2.07 0-2.86zM5.41 20L4 18.59l7.72-7.72 1.47 1.35L5.41 20z\"/>\n",
              "  </svg>\n",
              "      </button>\n",
              "      \n",
              "  <style>\n",
              "    .colab-df-container {\n",
              "      display:flex;\n",
              "      flex-wrap:wrap;\n",
              "      gap: 12px;\n",
              "    }\n",
              "\n",
              "    .colab-df-convert {\n",
              "      background-color: #E8F0FE;\n",
              "      border: none;\n",
              "      border-radius: 50%;\n",
              "      cursor: pointer;\n",
              "      display: none;\n",
              "      fill: #1967D2;\n",
              "      height: 32px;\n",
              "      padding: 0 0 0 0;\n",
              "      width: 32px;\n",
              "    }\n",
              "\n",
              "    .colab-df-convert:hover {\n",
              "      background-color: #E2EBFA;\n",
              "      box-shadow: 0px 1px 2px rgba(60, 64, 67, 0.3), 0px 1px 3px 1px rgba(60, 64, 67, 0.15);\n",
              "      fill: #174EA6;\n",
              "    }\n",
              "\n",
              "    [theme=dark] .colab-df-convert {\n",
              "      background-color: #3B4455;\n",
              "      fill: #D2E3FC;\n",
              "    }\n",
              "\n",
              "    [theme=dark] .colab-df-convert:hover {\n",
              "      background-color: #434B5C;\n",
              "      box-shadow: 0px 1px 3px 1px rgba(0, 0, 0, 0.15);\n",
              "      filter: drop-shadow(0px 1px 2px rgba(0, 0, 0, 0.3));\n",
              "      fill: #FFFFFF;\n",
              "    }\n",
              "  </style>\n",
              "\n",
              "      <script>\n",
              "        const buttonEl =\n",
              "          document.querySelector('#df-2be00135-0750-4eb4-96f0-3b8553a5b719 button.colab-df-convert');\n",
              "        buttonEl.style.display =\n",
              "          google.colab.kernel.accessAllowed ? 'block' : 'none';\n",
              "\n",
              "        async function convertToInteractive(key) {\n",
              "          const element = document.querySelector('#df-2be00135-0750-4eb4-96f0-3b8553a5b719');\n",
              "          const dataTable =\n",
              "            await google.colab.kernel.invokeFunction('convertToInteractive',\n",
              "                                                     [key], {});\n",
              "          if (!dataTable) return;\n",
              "\n",
              "          const docLinkHtml = 'Like what you see? Visit the ' +\n",
              "            '<a target=\"_blank\" href=https://colab.research.google.com/notebooks/data_table.ipynb>data table notebook</a>'\n",
              "            + ' to learn more about interactive tables.';\n",
              "          element.innerHTML = '';\n",
              "          dataTable['output_type'] = 'display_data';\n",
              "          await google.colab.output.renderOutput(dataTable, element);\n",
              "          const docLink = document.createElement('div');\n",
              "          docLink.innerHTML = docLinkHtml;\n",
              "          element.appendChild(docLink);\n",
              "        }\n",
              "      </script>\n",
              "    </div>\n",
              "  </div>\n",
              "  "
            ],
            "text/plain": [
              "   speed_level  Speed\n",
              "0          low     45\n",
              "1          low     60\n",
              "2         high     80\n",
              "3         high     80\n",
              "4          low     65\n",
              "5         high     80\n",
              "6         high    100\n",
              "7         high    100\n",
              "8         high    100\n",
              "9          low     43\n",
              "10         low     58"
            ]
          },
          "metadata": {},
          "execution_count": 6
        }
      ]
    },
    {
      "cell_type": "code",
      "source": [
        "#learned:\n",
        "  #defining a function\n",
        "  #scope\n",
        "  #nested func\n",
        "  #default and flexible arguments\n",
        "  #lambda func\n",
        "  #anonymus func\n",
        "  #iterators\n",
        "  #list comprehension"
      ],
      "metadata": {
        "id": "wWGte15ZAray"
      },
      "execution_count": 7,
      "outputs": []
    }
  ]
}